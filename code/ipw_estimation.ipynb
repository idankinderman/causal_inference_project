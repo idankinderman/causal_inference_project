{
 "cells": [
  {
   "metadata": {
    "ExecuteTime": {
     "end_time": "2024-10-31T08:30:37.316272Z",
     "start_time": "2024-10-31T08:30:36.535336Z"
    }
   },
   "cell_type": "code",
   "source": [
    "import pandas as pd\n",
    "from sklearn.linear_model import LogisticRegression\n",
    "from sklearn.svm import SVC\n",
    "from sklearn.pipeline import Pipeline\n",
    "from sklearn.preprocessing import StandardScaler\n",
    "\n",
    "from ipw_estimator import IPWATEEstimator\n",
    "from sklearn.naive_bayes import GaussianNB"
   ],
   "id": "1234c97a8b984e3d",
   "outputs": [],
   "execution_count": 1
  },
  {
   "metadata": {
    "ExecuteTime": {
     "end_time": "2024-10-31T08:30:37.331132Z",
     "start_time": "2024-10-31T08:30:37.318396Z"
    }
   },
   "cell_type": "code",
   "source": [
    "def load_df_dict_complete(path, threshold=None):\n",
    "    \"\"\"\n",
    "    Loads dict of X_train, X_test, T_train, T_test, Y_train, Y_test dataframes.\n",
    "    If threshold is not None, binarize the treatment variable with the threshold.\n",
    "    :param path: path to .pkl\n",
    "    :param threshold: threshold to binarize the treatment variable\n",
    "    :return: data dict\n",
    "    \"\"\"\n",
    "    data = pd.read_pickle(path)\n",
    "    \n",
    "    if threshold:\n",
    "        data['T1'] = data['T1'].apply(lambda x: 0 if x <= threshold else 1)\n",
    "        data['T2'] = data['T2'].apply(lambda x: 0 if x <= threshold else 1)\n",
    "    \n",
    "    return data"
   ],
   "id": "eb87dd1b34bd4de0",
   "outputs": [],
   "execution_count": 2
  },
  {
   "metadata": {
    "ExecuteTime": {
     "end_time": "2024-10-31T08:30:37.346668Z",
     "start_time": "2024-10-31T08:30:37.332124Z"
    }
   },
   "cell_type": "code",
   "source": [
    "# Logistic regression was a relatively consistent model for propensity score estimation. \n",
    "\n",
    "# nb_model = GaussianNB()\n",
    "# model = Pipeline([\n",
    "#     ('scaler', StandardScaler()),\n",
    "#     ('logistic_regression', LogisticRegression(C=1, max_iter=1000))\n",
    "# ])\n",
    "model = Pipeline([\n",
    "    ('scaler', StandardScaler()),\n",
    "    ('logistic_regression', SVC(probability=True, C=10))\n",
    "])"
   ],
   "id": "aca3573894d7c224",
   "outputs": [],
   "execution_count": 3
  },
  {
   "metadata": {},
   "cell_type": "markdown",
   "source": "# Mature no children",
   "id": "bce724f96dfcbf1d"
  },
  {
   "metadata": {
    "ExecuteTime": {
     "end_time": "2024-10-31T08:30:37.362515Z",
     "start_time": "2024-10-31T08:30:37.347849Z"
    }
   },
   "cell_type": "code",
   "source": [
    "# load preprocessed data\n",
    "path = './preprocessed_data/df_complete_mature_no_children.pickle'\n",
    "\n",
    "mnc_data = load_df_dict_complete(path, threshold=2)\n"
   ],
   "id": "e0201dd8b3bf2576",
   "outputs": [],
   "execution_count": 4
  },
  {
   "metadata": {},
   "cell_type": "markdown",
   "source": "## Expected #",
   "id": "c5972fcd5f333c44"
  },
  {
   "metadata": {
    "ExecuteTime": {
     "end_time": "2024-10-31T08:39:38.079298Z",
     "start_time": "2024-10-31T08:30:37.365518Z"
    }
   },
   "cell_type": "code",
   "source": [
    "mnc_exp_ps_estimator = IPWATEEstimator(propensity_model=model)\n",
    "\n",
    "print(\"Mature No Children, Treatment = Expected #\")\n",
    "mnc_exp_ps_estimator.estimate_ATE(mnc_data['X'], mnc_data['Y'], mnc_data['T1'])"
   ],
   "id": "7f79b638ea4615a6",
   "outputs": [
    {
     "name": "stdout",
     "output_type": "stream",
     "text": [
      "Mature No Children, Treatment = Expected #\n"
     ]
    },
    {
     "name": "stderr",
     "output_type": "stream",
     "text": [
      "Bootstrapping: 100%|██████████| 1000/1000 [09:00<00:00,  1.85it/s]\n"
     ]
    },
    {
     "data": {
      "text/plain": [
       "(0.2419327360602756, array([-0.203238  ,  0.68776659]))"
      ]
     },
     "execution_count": 5,
     "metadata": {},
     "output_type": "execute_result"
    }
   ],
   "execution_count": 5
  },
  {
   "metadata": {},
   "cell_type": "markdown",
   "source": "## Ideal",
   "id": "9a6752495d1723d1"
  },
  {
   "metadata": {
    "ExecuteTime": {
     "end_time": "2024-10-31T08:48:59.237019Z",
     "start_time": "2024-10-31T08:39:38.087318Z"
    }
   },
   "cell_type": "code",
   "source": [
    "mnc_id_ps_estimator = IPWATEEstimator(propensity_model=model)\n",
    "\n",
    "print(\"Mature No Children, Treatment = Ideal #\")\n",
    "mnc_id_ps_estimator.estimate_ATE(mnc_data['X'], mnc_data['Y'], mnc_data['T2'])"
   ],
   "id": "ccb95f3f7157f0e2",
   "outputs": [
    {
     "name": "stdout",
     "output_type": "stream",
     "text": [
      "Mature No Children, Treatment = Ideal #\n"
     ]
    },
    {
     "name": "stderr",
     "output_type": "stream",
     "text": [
      "Bootstrapping: 100%|██████████| 1000/1000 [09:21<00:00,  1.78it/s]\n"
     ]
    },
    {
     "data": {
      "text/plain": [
       "(0.20643737648960342, array([-0.26651913,  0.63089475]))"
      ]
     },
     "execution_count": 6,
     "metadata": {},
     "output_type": "execute_result"
    }
   ],
   "execution_count": 6
  },
  {
   "metadata": {},
   "cell_type": "markdown",
   "source": "# Mature with children",
   "id": "2483cd6756e617d3"
  },
  {
   "metadata": {
    "ExecuteTime": {
     "end_time": "2024-10-31T08:48:59.268645Z",
     "start_time": "2024-10-31T08:48:59.239990Z"
    }
   },
   "cell_type": "code",
   "source": [
    "# load preprocessed data\n",
    "path = './preprocessed_data/df_complete_mature_with_children.pickle'\n",
    "\n",
    "mwc_data = load_df_dict_complete(path, threshold=2)\n"
   ],
   "id": "b4649d9cae954fb5",
   "outputs": [],
   "execution_count": 7
  },
  {
   "metadata": {},
   "cell_type": "markdown",
   "source": "## Expected",
   "id": "5eec76ec7ea9ca74"
  },
  {
   "metadata": {
    "ExecuteTime": {
     "end_time": "2024-10-31T08:50:39.852958Z",
     "start_time": "2024-10-31T08:48:59.272641Z"
    }
   },
   "cell_type": "code",
   "source": [
    "mwc_exp_ps_estimator = IPWATEEstimator(propensity_model=model)\n",
    "\n",
    "print(\"Mature With Children, Treatment = Expected #\")\n",
    "mwc_exp_ps_estimator.estimate_ATE(mwc_data['X'], mwc_data['Y'], mwc_data['T1'])"
   ],
   "id": "9b90bb45d6f06f96",
   "outputs": [
    {
     "name": "stdout",
     "output_type": "stream",
     "text": [
      "Mature With Children, Treatment = Expected #\n"
     ]
    },
    {
     "name": "stderr",
     "output_type": "stream",
     "text": [
      "Bootstrapping: 100%|██████████| 1000/1000 [01:40<00:00,  9.95it/s]\n"
     ]
    },
    {
     "data": {
      "text/plain": [
       "(0.4447326075278527, array([-0.32820222,  1.19365662]))"
      ]
     },
     "execution_count": 8,
     "metadata": {},
     "output_type": "execute_result"
    }
   ],
   "execution_count": 8
  },
  {
   "metadata": {},
   "cell_type": "markdown",
   "source": "## Ideal",
   "id": "466132461912e89b"
  },
  {
   "metadata": {
    "ExecuteTime": {
     "end_time": "2024-10-31T08:52:16.982812Z",
     "start_time": "2024-10-31T08:50:39.853233Z"
    }
   },
   "cell_type": "code",
   "source": [
    "mwc_id_ps_estimator = IPWATEEstimator(propensity_model=model)\n",
    "\n",
    "print(\"Mature With Children, Treatment = Ideal #\")\n",
    "mwc_id_ps_estimator.estimate_ATE(mwc_data['X'], mwc_data['Y'], mwc_data['T2'])"
   ],
   "id": "5a3394aee5378018",
   "outputs": [
    {
     "name": "stdout",
     "output_type": "stream",
     "text": [
      "Mature With Children, Treatment = Ideal #\n"
     ]
    },
    {
     "name": "stderr",
     "output_type": "stream",
     "text": [
      "Bootstrapping: 100%|██████████| 1000/1000 [01:37<00:00, 10.30it/s]\n"
     ]
    },
    {
     "data": {
      "text/plain": [
       "(0.4458674319213451, array([-0.35582123,  1.29015426]))"
      ]
     },
     "execution_count": 9,
     "metadata": {},
     "output_type": "execute_result"
    }
   ],
   "execution_count": 9
  },
  {
   "metadata": {},
   "cell_type": "markdown",
   "source": "# Young no children",
   "id": "d4ae5137eee87e38"
  },
  {
   "metadata": {
    "ExecuteTime": {
     "end_time": "2024-10-31T08:52:17.000919Z",
     "start_time": "2024-10-31T08:52:16.985687Z"
    }
   },
   "cell_type": "code",
   "source": [
    "# load preprocessed data\n",
    "path = './preprocessed_data/df_complete_young_no_children.pickle'\n",
    "\n",
    "ync_data = load_df_dict_complete(path, threshold=2)\n"
   ],
   "id": "f63894b77ab0fc55",
   "outputs": [],
   "execution_count": 10
  },
  {
   "metadata": {},
   "cell_type": "markdown",
   "source": "## Expected",
   "id": "408e30b113f2adff"
  },
  {
   "metadata": {
    "ExecuteTime": {
     "end_time": "2024-10-31T09:04:01.598792Z",
     "start_time": "2024-10-31T08:52:17.003345Z"
    }
   },
   "cell_type": "code",
   "source": [
    "ync_exp_ps_estimator = IPWATEEstimator(propensity_model=model)\n",
    "\n",
    "print(\"Young No Children, Treatment = Expected #\")\n",
    "ync_exp_ps_estimator.estimate_ATE(ync_data['X'], ync_data['Y'], ync_data['T1'])"
   ],
   "id": "8830db2845825f03",
   "outputs": [
    {
     "name": "stdout",
     "output_type": "stream",
     "text": [
      "Young No Children, Treatment = Expected #\n"
     ]
    },
    {
     "name": "stderr",
     "output_type": "stream",
     "text": [
      "Bootstrapping: 100%|██████████| 1000/1000 [11:44<00:00,  1.42it/s]\n"
     ]
    },
    {
     "data": {
      "text/plain": [
       "(0.1744582248663289, array([-0.28371767,  0.69999481]))"
      ]
     },
     "execution_count": 11,
     "metadata": {},
     "output_type": "execute_result"
    }
   ],
   "execution_count": 11
  },
  {
   "metadata": {},
   "cell_type": "markdown",
   "source": "## Ideal",
   "id": "766db9acae167745"
  },
  {
   "metadata": {
    "ExecuteTime": {
     "end_time": "2024-10-31T09:15:50.802478Z",
     "start_time": "2024-10-31T09:04:01.600790Z"
    }
   },
   "cell_type": "code",
   "source": [
    "ync_id_ps_estimator = IPWATEEstimator(propensity_model=model)\n",
    "\n",
    "print(\"Young No Children, Treatment = Ideal #\")\n",
    "ync_id_ps_estimator.estimate_ATE(ync_data['X'], ync_data['Y'], ync_data['T2'])"
   ],
   "id": "e2e9d56278839559",
   "outputs": [
    {
     "name": "stdout",
     "output_type": "stream",
     "text": [
      "Young No Children, Treatment = Ideal #\n"
     ]
    },
    {
     "name": "stderr",
     "output_type": "stream",
     "text": [
      "Bootstrapping: 100%|██████████| 1000/1000 [11:49<00:00,  1.41it/s]\n"
     ]
    },
    {
     "data": {
      "text/plain": [
       "(0.10983104747487843, array([-0.426882  ,  0.61794235]))"
      ]
     },
     "execution_count": 12,
     "metadata": {},
     "output_type": "execute_result"
    }
   ],
   "execution_count": 12
  }
 ],
 "metadata": {
  "kernelspec": {
   "display_name": "Python 3",
   "language": "python",
   "name": "python3"
  },
  "language_info": {
   "codemirror_mode": {
    "name": "ipython",
    "version": 2
   },
   "file_extension": ".py",
   "mimetype": "text/x-python",
   "name": "python",
   "nbconvert_exporter": "python",
   "pygments_lexer": "ipython2",
   "version": "2.7.6"
  }
 },
 "nbformat": 4,
 "nbformat_minor": 5
}
