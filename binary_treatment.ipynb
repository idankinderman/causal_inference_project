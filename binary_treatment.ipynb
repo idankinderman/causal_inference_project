{
 "cells": [
  {
   "cell_type": "code",
   "id": "initial_id",
   "metadata": {
    "collapsed": true,
    "ExecuteTime": {
     "end_time": "2024-09-15T22:04:09.535646Z",
     "start_time": "2024-09-15T22:04:08.323429Z"
    }
   },
   "source": [
    "import numpy as np\n",
    "import pandas as pd\n",
    "import matplotlib.pyplot as plt\n",
    "import seaborn as sns\n",
    "import pickle\n",
    "import xgboost\n",
    "import econml\n",
    "import dowhy"
   ],
   "outputs": [],
   "execution_count": 1
  },
  {
   "metadata": {},
   "cell_type": "markdown",
   "source": "# Mature no children",
   "id": "289c9e8a75dc010e"
  },
  {
   "metadata": {
    "ExecuteTime": {
     "end_time": "2024-09-15T22:04:09.554101Z",
     "start_time": "2024-09-15T22:04:09.538002Z"
    }
   },
   "cell_type": "code",
   "source": [
    "# load preprocessed data\n",
    "path = './preprocessed_data/df_mature_no_children_dict.pickle'\n",
    "data = pd.read_pickle(path)\n",
    "print(*data.keys(), sep='\\n')"
   ],
   "id": "ee3da1b739d9305a",
   "outputs": [
    {
     "name": "stdout",
     "output_type": "stream",
     "text": [
      "X_train_normalized\n",
      "X_test_normalized\n",
      "Y_train\n",
      "Y_test\n",
      "T_train\n",
      "T_test\n"
     ]
    }
   ],
   "execution_count": 2
  },
  {
   "metadata": {
    "ExecuteTime": {
     "end_time": "2024-09-15T22:04:09.569737Z",
     "start_time": "2024-09-15T22:04:09.554101Z"
    }
   },
   "cell_type": "code",
   "source": [
    "X_train = data['X_train_normalized']\n",
    "X_test = data['X_test_normalized']\n",
    "Y_train = data['Y_train']\n",
    "Y_test = data['Y_test']\n",
    "T_train = data['T_train']\n",
    "T_test = data['T_test']\n",
    "\n",
    "T_name = T_train.name\n",
    "Y_name = Y_train.name\n",
    "covariate_names = X_train.columns.to_list()"
   ],
   "id": "193b8610c7bbb288",
   "outputs": [],
   "execution_count": 3
  },
  {
   "metadata": {},
   "cell_type": "markdown",
   "source": "In this part we assume that the treatment is binary. This is implemented using a threshold which is the median.",
   "id": "fb319d158d7386c4"
  },
  {
   "metadata": {
    "ExecuteTime": {
     "end_time": "2024-09-15T22:04:09.585360Z",
     "start_time": "2024-09-15T22:04:09.569737Z"
    }
   },
   "cell_type": "code",
   "source": [
    "threshold = 2\n",
    "T_train = T_train.apply(lambda x: 0 if x <= threshold else 1)\n",
    "T_test = T_test.apply(lambda x: 0 if x <= threshold else 1)"
   ],
   "id": "2f408aba10f3e022",
   "outputs": [],
   "execution_count": 4
  },
  {
   "metadata": {
    "ExecuteTime": {
     "end_time": "2024-09-15T22:04:09.610731Z",
     "start_time": "2024-09-15T22:04:09.585360Z"
    }
   },
   "cell_type": "code",
   "source": [
    "# Rebuild the full DataFrame\n",
    "train_data = X_train.copy()\n",
    "train_data[T_name] = T_train\n",
    "train_data[Y_name] = Y_train"
   ],
   "id": "45e19a45ea7c3af",
   "outputs": [],
   "execution_count": 5
  },
  {
   "metadata": {
    "ExecuteTime": {
     "end_time": "2024-09-15T22:04:09.626355Z",
     "start_time": "2024-09-15T22:04:09.610731Z"
    }
   },
   "cell_type": "code",
   "source": [
    "# Create a CausalModel with the training data\n",
    "from dowhy import CausalModel\n",
    "\n",
    "model = CausalModel(\n",
    "    data=train_data,\n",
    "    treatment=T_name,\n",
    "    outcome=Y_name,\n",
    "    common_causes=covariate_names\n",
    ")\n"
   ],
   "id": "28b2f0972d33393b",
   "outputs": [],
   "execution_count": 6
  },
  {
   "metadata": {},
   "cell_type": "markdown",
   "source": "## DML",
   "id": "7d896ddf57494c98"
  },
  {
   "metadata": {
    "ExecuteTime": {
     "end_time": "2024-09-15T22:04:10.773175Z",
     "start_time": "2024-09-15T22:04:09.626355Z"
    }
   },
   "cell_type": "code",
   "source": [
    "from econml.dml import LinearDML\n",
    "from sklearn.ensemble import RandomForestRegressor, RandomForestClassifier\n",
    "from sklearn.linear_model import LinearRegression\n",
    "\n",
    "# Define models for outcome (Y) and treatment (T)\n",
    "model_y = RandomForestRegressor()    # Flexible model for outcome regression\n",
    "model_t = RandomForestClassifier()    # Flexible model for treatment regression\n",
    "\n",
    "# Initialize the LinearDML estimator (supports confidence intervals)\n",
    "linear_dml_model = LinearDML(\n",
    "    model_y=model_y,                # Model for outcome regression\n",
    "    model_t=model_t,                # Model for treatment regression\n",
    "    discrete_treatment=True        # Set to True if treatment is binary\n",
    ")\n",
    "\n",
    "# Fit the LinearDML model on the training data\n",
    "linear_dml_model.fit(Y_train, T_train, X=X_train)\n",
    "\n",
    "# Estimate the Average Treatment Effect (ATE) for the entire dataset\n",
    "ate = linear_dml_model.ate(X_test)\n",
    "\n",
    "# Estimate the confidence intervals for the ATE\n",
    "ate_lower, ate_upper = linear_dml_model.ate_interval(X_test)\n",
    "\n",
    "# Output the estimated ATE and its confidence intervals\n",
    "print(f\"Estimated ATE: {ate}\")\n",
    "print(f\"Confidence Interval for ATE: [{ate_lower}, {ate_upper}]\")\n"
   ],
   "id": "f7ec849d20031fb0",
   "outputs": [
    {
     "name": "stderr",
     "output_type": "stream",
     "text": [
      "Not all column names are strings. Coercing to strings for now.\n"
     ]
    },
    {
     "name": "stdout",
     "output_type": "stream",
     "text": [
      "Estimated ATE: 0.14402249954655844\n",
      "Confidence Interval for ATE: [-0.10723920788737665, 0.39528420698049316]\n"
     ]
    },
    {
     "name": "stderr",
     "output_type": "stream",
     "text": [
      "Co-variance matrix is underdetermined. Inference will be invalid!\n"
     ]
    }
   ],
   "execution_count": 7
  },
  {
   "metadata": {},
   "cell_type": "markdown",
   "source": "### DML Evaluation",
   "id": "ad8fefd919dddd2c"
  },
  {
   "metadata": {
    "ExecuteTime": {
     "end_time": "2024-09-15T22:04:10.788834Z",
     "start_time": "2024-09-15T22:04:10.773175Z"
    }
   },
   "cell_type": "code",
   "source": [
    "# from sklearn.metrics import r2_score\n",
    "# \n",
    "# # Evaluate the outcome model (model_y)\n",
    "# y_pred = linear_dml_model.model_y.predict(X_test)  # Access fitted model for outcome\n",
    "# r2_y = r2_score(Y_test, y_pred)  # Compute R² for the outcome model\n",
    "# print(f\"R² for the outcome model: {r2_y}\")\n",
    "# \n",
    "# # Evaluate the treatment model (model_t)\n",
    "# t_pred = linear_dml_model.model_t.predict(X_test)  # Access fitted model for treatment\n",
    "# r2_t = r2_score(T_test, t_pred)  # Compute R² for the treatment model\n",
    "# print(f\"R² for the treatment model: {r2_t}\")"
   ],
   "id": "69a6f81f5241d1ab",
   "outputs": [],
   "execution_count": 8
  },
  {
   "metadata": {},
   "cell_type": "markdown",
   "source": "## S-Learner",
   "id": "60e32eb36fe30831"
  },
  {
   "metadata": {
    "ExecuteTime": {
     "end_time": "2024-09-15T22:04:10.867384Z",
     "start_time": "2024-09-15T22:04:10.788834Z"
    }
   },
   "cell_type": "code",
   "source": [
    "from econml.metalearners import SLearner\n",
    "from xgboost import XGBRegressor\n",
    "from sklearn.model_selection import train_test_split\n",
    "\n",
    "\n",
    "# Define XGBoost for outcome prediction\n",
    "xgb_model = XGBRegressor()\n",
    "\n",
    "# Initialize the S-Learner using XGBoost\n",
    "s_learner = SLearner(overall_model=xgb_model)\n",
    "\n",
    "# Fit the S-Learner\n",
    "s_learner.fit(Y_train, T_train, X=X_train)\n",
    "\n",
    "# Estimate the ATE using the fitted model\n",
    "ate_s_learner = s_learner.ate(X_test)\n",
    "\n",
    "print(f\"S-Learner ATE: {ate_s_learner}\")\n"
   ],
   "id": "9760bb1d253fe012",
   "outputs": [
    {
     "name": "stdout",
     "output_type": "stream",
     "text": [
      "S-Learner ATE: 0.13792528994884845\n"
     ]
    },
    {
     "name": "stderr",
     "output_type": "stream",
     "text": [
      "Not all column names are strings. Coercing to strings for now.\n"
     ]
    }
   ],
   "execution_count": 9
  },
  {
   "metadata": {},
   "cell_type": "markdown",
   "source": "## T-Learner",
   "id": "2e97636b5d6d2290"
  },
  {
   "metadata": {
    "ExecuteTime": {
     "end_time": "2024-09-15T22:04:10.992796Z",
     "start_time": "2024-09-15T22:04:10.867384Z"
    }
   },
   "cell_type": "code",
   "source": [
    "from econml.metalearners import TLearner\n",
    "from xgboost import XGBRegressor\n",
    "\n",
    "# Define XGBoost for both models\n",
    "xgb_model = XGBRegressor()\n",
    "\n",
    "# Initialize the T-Learner with XGBoost\n",
    "t_learner = TLearner(models=XGBRegressor())\n",
    "\n",
    "# Fit the T-Learner\n",
    "t_learner.fit(Y_train, T_train, X=X_train)\n",
    "\n",
    "# Estimate the ATE using the T-Learner\n",
    "ate_t_learner = t_learner.ate(X_test)\n",
    "\n",
    "print(f\"T-Learner ATE: {ate_t_learner}\")\n"
   ],
   "id": "67ede8a2908746cb",
   "outputs": [
    {
     "name": "stderr",
     "output_type": "stream",
     "text": [
      "Not all column names are strings. Coercing to strings for now.\n"
     ]
    },
    {
     "name": "stdout",
     "output_type": "stream",
     "text": [
      "T-Learner ATE: 0.22093734333107062\n"
     ]
    }
   ],
   "execution_count": 10
  },
  {
   "metadata": {},
   "cell_type": "markdown",
   "source": "## X-learner",
   "id": "10e4863970303eef"
  },
  {
   "metadata": {
    "ExecuteTime": {
     "end_time": "2024-09-15T22:04:11.231359Z",
     "start_time": "2024-09-15T22:04:10.992796Z"
    }
   },
   "cell_type": "code",
   "source": [
    "from econml.metalearners import XLearner\n",
    "from xgboost import XGBRegressor\n",
    "\n",
    "# Define XGBoost for both models\n",
    "xgb_model = XGBRegressor()\n",
    "\n",
    "# Initialize the X-Learner with XGBoost\n",
    "x_learner = XLearner(models=XGBRegressor())\n",
    "\n",
    "# Fit the X-Learner\n",
    "x_learner.fit(Y_train, T_train, X=X_train)\n",
    "\n",
    "# Estimate the ATE using the X-Learner\n",
    "ate_x_learner = x_learner.ate(X_test)\n",
    "\n",
    "print(f\"X-Learner ATE: {ate_x_learner}\")\n"
   ],
   "id": "6933026db6ec3781",
   "outputs": [
    {
     "name": "stderr",
     "output_type": "stream",
     "text": [
      "Not all column names are strings. Coercing to strings for now.\n"
     ]
    },
    {
     "name": "stdout",
     "output_type": "stream",
     "text": [
      "X-Learner ATE: 0.16629724920180255\n"
     ]
    }
   ],
   "execution_count": 11
  },
  {
   "metadata": {},
   "cell_type": "markdown",
   "source": "## IPW",
   "id": "95385e4c903fef26"
  },
  {
   "metadata": {
    "ExecuteTime": {
     "end_time": "2024-09-15T22:07:24.437579Z",
     "start_time": "2024-09-15T22:07:24.390296Z"
    }
   },
   "cell_type": "code",
   "source": [
    "from xgboost import XGBClassifier\n",
    "from sklearn.linear_model import LogisticRegression\n",
    "from sklearn.model_selection import train_test_split\n",
    "import numpy as np\n",
    "\n",
    "# Fit a propensity score model (XGBoost or Logistic Regression)\n",
    "propensity_model = LogisticRegression()\n",
    "propensity_model.fit(X_train, T_train)\n",
    "\n",
    "# Predict propensity scores (probabilities of treatment)\n",
    "propensity_scores = propensity_model.predict_proba(X_test)[:, 1]  # Prob of being treated (T=1)\n",
    "\n",
    "# Compute the inverse propensity weights\n",
    "epsilon = 1e-3\n",
    "weights_treated = 1 / (propensity_scores[T_test == 1] + epsilon)\n",
    "weights_control = 1 / (propensity_scores[T_test == 0] + epsilon)\n",
    "\n",
    "# Apply IPW to estimate the ATE\n",
    "# Separate treated and control groups\n",
    "Y_treated = Y_test[T_test == 1]\n",
    "Y_control = Y_test[T_test == 0]\n",
    "\n",
    "# Weighted means of outcomes\n",
    "weighted_mean_treated = np.average(Y_treated, weights=weights_treated)\n",
    "weighted_mean_control = np.average(Y_control, weights=weights_control)\n",
    "\n",
    "# ATE estimation\n",
    "ate_ipw = weighted_mean_treated - weighted_mean_control\n",
    "\n",
    "print(f\"Estimated ATE using IPW: {ate_ipw}\")\n"
   ],
   "id": "6c3eff8fca52e2b3",
   "outputs": [
    {
     "name": "stdout",
     "output_type": "stream",
     "text": [
      "Estimated ATE using IPW: 0.1176900442541371\n"
     ]
    }
   ],
   "execution_count": 24
  },
  {
   "metadata": {
    "ExecuteTime": {
     "end_time": "2024-09-15T21:59:39.162079Z",
     "start_time": "2024-09-15T21:59:38.578973Z"
    }
   },
   "cell_type": "code",
   "source": [
    "import matplotlib.pyplot as plt\n",
    "import numpy as np\n",
    "\n",
    "# Sort indices based on the target values (Y_train)\n",
    "sorted_indices = np.argsort(Y_train)\n",
    "\n",
    "# Divide data into quartiles based on sorted target values\n",
    "quartile_size = len(Y_train) // 4\n",
    "first_quartile_indices = sorted_indices[:quartile_size]\n",
    "second_quartile_indices = sorted_indices[quartile_size:2*quartile_size]\n",
    "third_quartile_indices = sorted_indices[2*quartile_size:3*quartile_size]\n",
    "fourth_quartile_indices = sorted_indices[3*quartile_size:]\n",
    "\n",
    "# Use iloc to retain feature names when slicing\n",
    "propensity_scores_first_quartile = propensity_model.predict_proba(X_train.iloc[first_quartile_indices])[:, 1]\n",
    "propensity_scores_second_quartile = propensity_model.predict_proba(X_train.iloc[second_quartile_indices])[:, 1]\n",
    "propensity_scores_third_quartile = propensity_model.predict_proba(X_train.iloc[third_quartile_indices])[:, 1]\n",
    "propensity_scores_fourth_quartile = propensity_model.predict_proba(X_train.iloc[fourth_quartile_indices])[:, 1]\n",
    "\n",
    "# Calculate the total number of samples for weights normalization\n",
    "total_samples = len(first_quartile_indices) + len(second_quartile_indices) + len(third_quartile_indices) + len(fourth_quartile_indices)\n",
    "\n",
    "# Compute weights for each group so that their relative size is maintained\n",
    "weights_first = np.ones_like(propensity_scores_first_quartile) / total_samples\n",
    "weights_second = np.ones_like(propensity_scores_second_quartile) / total_samples\n",
    "weights_third = np.ones_like(propensity_scores_third_quartile) / total_samples\n",
    "weights_fourth = np.ones_like(propensity_scores_fourth_quartile) / total_samples\n",
    "\n",
    "# Plot stacked histograms for quartiles with relative magnitude\n",
    "plt.hist(\n",
    "    [propensity_scores_first_quartile, propensity_scores_second_quartile, propensity_scores_third_quartile, propensity_scores_fourth_quartile], \n",
    "    bins=20, \n",
    "    weights=[weights_first, weights_second, weights_third, weights_fourth],  # Maintain relative sizes\n",
    "    alpha=0.7, \n",
    "    label=['First Quartile', 'Second Quartile', 'Third Quartile', 'Fourth Quartile'],\n",
    "    stacked=True,\n",
    "    density=False\n",
    ")\n",
    "\n",
    "# Add labels and legend\n",
    "plt.title('Stacked Distribution of Propensity Scores by Target Value Quartiles')\n",
    "plt.xlabel('Propensity Score')\n",
    "plt.ylabel('Proportion')\n",
    "plt.legend(loc='best')\n",
    "\n",
    "# Show the plot\n",
    "plt.show()\n"
   ],
   "id": "6e49c83af8321b4a",
   "outputs": [
    {
     "data": {
      "text/plain": [
       "<Figure size 640x480 with 1 Axes>"
      ],
      "image/png": "[encoded data removed]"
     },
     "metadata": {},
     "output_type": "display_data"
    }
   ],
   "execution_count": 100
  },
  {
   "metadata": {
    "ExecuteTime": {
     "end_time": "2024-09-15T21:51:03.696959Z",
     "start_time": "2024-09-15T21:51:03.573395Z"
    }
   },
   "cell_type": "code",
   "source": [
    "from sklearn.calibration import calibration_curve\n",
    "\n",
    "# Get predicted propensity scores\n",
    "propensity_scores = propensity_model.predict_proba(X_test)[:, 1]\n",
    "\n",
    "# Calibration curve\n",
    "fraction_of_positives, mean_predicted_value = calibration_curve(T_test, propensity_scores, n_bins=10)\n",
    "\n",
    "# Plot calibration curve\n",
    "plt.plot(mean_predicted_value, fraction_of_positives, \"s-\", label=\"Calibration\")\n",
    "plt.plot([0, 1], [0, 1], \"k:\", label=\"Perfectly Calibrated\")\n",
    "plt.xlabel(\"Mean Predicted Value\")\n",
    "plt.ylabel(\"Fraction of Positives\")\n",
    "plt.legend()\n",
    "plt.title(\"Calibration Plot\")\n",
    "plt.show()\n"
   ],
   "id": "b8ed4d0583f01935",
   "outputs": [
    {
     "data": {
      "text/plain": [
       "<Figure size 640x480 with 1 Axes>"
      ],
      "image/png": "[encoded data removed]"
     },
     "metadata": {},
     "output_type": "display_data"
    }
   ],
   "execution_count": 88
  },
  {
   "metadata": {},
   "cell_type": "markdown",
   "source": "## DR",
   "id": "cefa42b9e8842260"
  },
  {
   "metadata": {
    "ExecuteTime": {
     "end_time": "2024-09-15T22:11:51.129692Z",
     "start_time": "2024-09-15T22:11:50.749708Z"
    }
   },
   "cell_type": "code",
   "source": [
    "from econml.dr import DRLearner\n",
    "from sklearn.linear_model import LogisticRegression\n",
    "from xgboost import XGBRegressor, XGBClassifier\n",
    "\n",
    "# Define models for propensity score (treatment model) and outcome model\n",
    "model_t = LogisticRegression()  # Propensity score model for binary treatment\n",
    "model_y = XGBRegressor()   # Outcome model for continuous outcomes\n",
    "\n",
    "# Initialize the DR Learner\n",
    "# Ensure cross-fitting is enabled\n",
    "dr_learner = DRLearner(\n",
    "    model_propensity=model_t, \n",
    "    model_regression=model_y,\n",
    "    cv=5  # 5-fold cross-fitting\n",
    ")\n",
    "\n",
    "# Fit the DR Learner on training data\n",
    "dr_learner.fit(Y_train, T_train, X=X_train)\n",
    "\n",
    "# Estimate the Average Treatment Effect (ATE) using the fitted DR Learner\n",
    "ate_dr = dr_learner.ate(X_test)\n",
    "\n",
    "# Output the estimated ATE\n",
    "print(f\"Estimated ATE using Doubly Robust Learner: {ate_dr}\")\n"
   ],
   "id": "fc5d08d554bb8a37",
   "outputs": [
    {
     "name": "stderr",
     "output_type": "stream",
     "text": [
      "Not all column names are strings. Coercing to strings for now.\n"
     ]
    },
    {
     "name": "stdout",
     "output_type": "stream",
     "text": [
      "Estimated ATE using Doubly Robust Learner: 636.6613529594338\n"
     ]
    },
    {
     "name": "stderr",
     "output_type": "stream",
     "text": [
      "Co-variance matrix is underdetermined. Inference will be invalid!\n"
     ]
    }
   ],
   "execution_count": 29
  }
 ],
 "metadata": {
  "kernelspec": {
   "display_name": "Python (causal_inference_project)",
   "language": "python",
   "name": "causal_inference_project"
  },
  "language_info": {
   "codemirror_mode": {
    "name": "ipython",
    "version": 2
   },
   "file_extension": ".py",
   "mimetype": "text/x-python",
   "name": "python",
   "nbconvert_exporter": "python",
   "pygments_lexer": "ipython2",
   "version": "2.7.6"
  }
 },
 "nbformat": 4,
 "nbformat_minor": 5
}
