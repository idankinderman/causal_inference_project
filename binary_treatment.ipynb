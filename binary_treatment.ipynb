{
 "cells": [
  {
   "metadata": {},
   "cell_type": "code",
   "outputs": [],
   "execution_count": 5,
   "source": "import pandas as pd",
   "id": "initial_id"
  },
  {
   "metadata": {},
   "cell_type": "markdown",
   "source": "# Mature no children",
   "id": "289c9e8a75dc010e"
  },
  {
   "metadata": {},
   "cell_type": "code",
   "outputs": [
    {
     "name": "stdout",
     "output_type": "stream",
     "text": [
      "AGE OF R 79\n",
      "# OF SIBS 79\n",
      "FREQ RELGS ATTENDANCE R 79\n",
      "# CHILDREN IDEAL FOR FAMILY 79\n",
      "TOT# CHILDREN EXPCT HAVE 79\n",
      "TOT NET FAMILY INC P-C YR 79\n",
      "AREA RESIDENCE @ AGE 14 URBAN/RURAL 79_IN COUNTRY-NOT FARM\n",
      "AREA RESIDENCE @ AGE 14 URBAN/RURAL 79_IN TOWN OR CITY\n",
      "AREA RESIDENCE @ AGE 14 URBAN/RURAL 79_ON FARM OR RANCH\n",
      "1ST/ONLY RACL/ETHNIC ORIGIN 79_AMERICAN\n",
      "1ST/ONLY RACL/ETHNIC ORIGIN 79_ASIAN INDIAN\n",
      "1ST/ONLY RACL/ETHNIC ORIGIN 79_BLACK\n",
      "1ST/ONLY RACL/ETHNIC ORIGIN 79_CHICANO\n",
      "1ST/ONLY RACL/ETHNIC ORIGIN 79_CHINESE\n",
      "1ST/ONLY RACL/ETHNIC ORIGIN 79_CUBAN\n",
      "1ST/ONLY RACL/ETHNIC ORIGIN 79_ENGLISH\n",
      "1ST/ONLY RACL/ETHNIC ORIGIN 79_FILIPINO\n",
      "1ST/ONLY RACL/ETHNIC ORIGIN 79_FRENCH\n",
      "1ST/ONLY RACL/ETHNIC ORIGIN 79_GERMAN\n",
      "1ST/ONLY RACL/ETHNIC ORIGIN 79_GREEK\n",
      "1ST/ONLY RACL/ETHNIC ORIGIN 79_HAWAIIAN, P.I.\n",
      "1ST/ONLY RACL/ETHNIC ORIGIN 79_INDIAN-AMERICAN OR NATIVE AMERICAN\n",
      "1ST/ONLY RACL/ETHNIC ORIGIN 79_IRISH\n",
      "1ST/ONLY RACL/ETHNIC ORIGIN 79_ITALIAN\n",
      "1ST/ONLY RACL/ETHNIC ORIGIN 79_JAPANESE\n",
      "1ST/ONLY RACL/ETHNIC ORIGIN 79_MEXICAN\n",
      "1ST/ONLY RACL/ETHNIC ORIGIN 79_MEXICAN-AMER\n",
      "1ST/ONLY RACL/ETHNIC ORIGIN 79_NONE\n",
      "1ST/ONLY RACL/ETHNIC ORIGIN 79_OTHER\n",
      "1ST/ONLY RACL/ETHNIC ORIGIN 79_OTHER HISPANIC\n",
      "1ST/ONLY RACL/ETHNIC ORIGIN 79_OTHER SPANISH\n",
      "1ST/ONLY RACL/ETHNIC ORIGIN 79_POLISH\n",
      "1ST/ONLY RACL/ETHNIC ORIGIN 79_PORTUGUESE\n",
      "1ST/ONLY RACL/ETHNIC ORIGIN 79_PUERTO RICAN\n",
      "1ST/ONLY RACL/ETHNIC ORIGIN 79_RUSSIAN\n",
      "1ST/ONLY RACL/ETHNIC ORIGIN 79_SCOTTISH\n",
      "1ST/ONLY RACL/ETHNIC ORIGIN 79_WELSH\n",
      "RELGN R RAISED COLLAPSED 79_BAPTIST\n",
      "RELGN R RAISED COLLAPSED 79_EPISCOPALIAN\n",
      "RELGN R RAISED COLLAPSED 79_JEWISH\n",
      "RELGN R RAISED COLLAPSED 79_LUTHERAN\n",
      "RELGN R RAISED COLLAPSED 79_METHODIST\n",
      "RELGN R RAISED COLLAPSED 79_NONE, NO RELIGION\n",
      "RELGN R RAISED COLLAPSED 79_OTHER\n",
      "RELGN R RAISED COLLAPSED 79_PRESBYTERIAN\n",
      "RELGN R RAISED COLLAPSED 79_PROTESTANT\n",
      "RELGN R RAISED COLLAPSED 79_ROMAN CATHOLIC\n",
      "PRSNT RELGS AFFILIATION 79_BAPTIST\n",
      "PRSNT RELGS AFFILIATION 79_EPISCOPALIAN\n",
      "PRSNT RELGS AFFILIATION 79_JEWISH\n",
      "PRSNT RELGS AFFILIATION 79_LUTHERAN\n",
      "PRSNT RELGS AFFILIATION 79_METHODIST\n",
      "PRSNT RELGS AFFILIATION 79_NONE, NO RELIGION\n",
      "PRSNT RELGS AFFILIATION 79_OTHER\n",
      "PRSNT RELGS AFFILIATION 79_PRESBYTERIAN\n",
      "PRSNT RELGS AFFILIATION 79_PROTESTANT\n",
      "PRSNT RELGS AFFILIATION 79_ROMAN CATHOLIC\n",
      "MARITAL STATUS 79_DIVORCED\n",
      "MARITAL STATUS 79_NEVER MARRIED-ANNUL\n",
      "MARITAL STATUS 79_PRESENTLY MARRIED\n",
      "MARITAL STATUS 79_SEPARATED\n",
      "MARITAL STATUS 79_WIDOWED\n",
      "ICHK HLTH LIMITATIONS I2A/2B YES_NO\n",
      "ICHK HLTH LIMITATIONS I2A/2B YES_YES\n",
      "ICHK MAIN HLTH COND CAUSE WRK LIMITS 79_ACCIDENT-INJURY\n",
      "ICHK MAIN HLTH COND CAUSE WRK LIMITS 79_IN BOX B\n",
      "ICHK MAIN HLTH COND CAUSE WRK LIMITS 79_NEITHER\n",
      "ICHK MAIN HLTH COND CAUSE WRK LIMITS 79_NORMAL PREGNANCY\n",
      "ICHK MAIN HLTH COND CAUSE WRK LIMITS 79_UNKNOWN\n",
      "SAMPLE ID  79 INT_CROSS FEMALE BLACK\n",
      "SAMPLE ID  79 INT_CROSS FEMALE HISPANIC\n",
      "SAMPLE ID  79 INT_CROSS FEMALE WH POOR\n",
      "SAMPLE ID  79 INT_CROSS FEMALE WHITE\n",
      "SAMPLE ID  79 INT_CROSS MALE WHITE\n",
      "SAMPLE ID  79 INT_MIL FEMALE BLACK\n",
      "SAMPLE ID  79 INT_MIL FEMALE HISPANIC\n",
      "SAMPLE ID  79 INT_MIL FEMALE WHITE\n",
      "SAMPLE ID  79 INT_SUP FEMALE BLACK\n",
      "SAMPLE ID  79 INT_SUP FEMALE HISPANIC\n",
      "SAMPLE ID  79 INT_SUP MALE BLACK\n",
      "RACL/ETHNIC COHORT /SCRNR 79_BLACK\n",
      "RACL/ETHNIC COHORT /SCRNR 79_HISPANIC\n",
      "RACL/ETHNIC COHORT /SCRNR 79_NON-BLACK, NON-HISPANIC\n",
      "REGION OF CURRENT RESIDENCE 79_NORTH CENTRAL\n",
      "REGION OF CURRENT RESIDENCE 79_NORTHEAST\n",
      "REGION OF CURRENT RESIDENCE 79_SOUTH\n",
      "REGION OF CURRENT RESIDENCE 79_WEST\n",
      "ENROLLMT STAT MAY 1 SURVEY YR (REV) 79_ENROLLED IN COLLEGE\n",
      "ENROLLMT STAT MAY 1 SURVEY YR (REV) 79_ENROLLED IN HIGH SCHOOL\n",
      "ENROLLMT STAT MAY 1 SURVEY YR (REV) 79_NOT ENROLLED, COMPLETED LESS THAN 12TH GRADE\n",
      "ENROLLMT STAT MAY 1 SURVEY YR (REV) 79_NOT ENROLLED, HIGH SCHOOL GRADUATE\n",
      "POVERTY STATUS 79_IN POVERTY\n",
      "POVERTY STATUS 79_NOT IN POVERTY\n",
      "POVERTY STATUS 79_UNKNOWN\n"
     ]
    }
   ],
   "execution_count": 6,
   "source": [
    "# load preprocessed data\n",
    "path = './preprocessed_data/df_mature_no_children_no_split.pickle'\n",
    "data = pd.read_pickle(path)\n",
    "print(*data.keys(), sep='\\n')"
   ],
   "id": "ee3da1b739d9305a"
  },
  {
   "metadata": {},
   "cell_type": "code",
   "outputs": [
    {
     "ename": "KeyError",
     "evalue": "'T_train'",
     "output_type": "error",
     "traceback": [
      "\u001B[1;31m---------------------------------------------------------------------------\u001B[0m",
      "\u001B[1;31mKeyError\u001B[0m                                  Traceback (most recent call last)",
      "Cell \u001B[1;32mIn[3], line 5\u001B[0m\n\u001B[0;32m      3\u001B[0m Y_train \u001B[38;5;241m=\u001B[39m data[\u001B[38;5;124m'\u001B[39m\u001B[38;5;124mY_train\u001B[39m\u001B[38;5;124m'\u001B[39m]\n\u001B[0;32m      4\u001B[0m Y_test \u001B[38;5;241m=\u001B[39m data[\u001B[38;5;124m'\u001B[39m\u001B[38;5;124mY_test\u001B[39m\u001B[38;5;124m'\u001B[39m]\n\u001B[1;32m----> 5\u001B[0m T_train \u001B[38;5;241m=\u001B[39m \u001B[43mdata\u001B[49m\u001B[43m[\u001B[49m\u001B[38;5;124;43m'\u001B[39;49m\u001B[38;5;124;43mT_train\u001B[39;49m\u001B[38;5;124;43m'\u001B[39;49m\u001B[43m]\u001B[49m\n\u001B[0;32m      6\u001B[0m T_test \u001B[38;5;241m=\u001B[39m data[\u001B[38;5;124m'\u001B[39m\u001B[38;5;124mT_test\u001B[39m\u001B[38;5;124m'\u001B[39m]\n\u001B[0;32m      8\u001B[0m T_name \u001B[38;5;241m=\u001B[39m T_train\u001B[38;5;241m.\u001B[39mname\n",
      "\u001B[1;31mKeyError\u001B[0m: 'T_train'"
     ]
    }
   ],
   "execution_count": 3,
   "source": [
    "X_train = data['X_train_normalized']\n",
    "X_test = data['X_test_normalized']\n",
    "Y_train = data['Y_train']\n",
    "Y_test = data['Y_test']\n",
    "T_train = data['T_train']\n",
    "T_test = data['T_test']\n",
    "\n",
    "T_name = T_train.name\n",
    "Y_name = Y_train.name\n",
    "covariate_names = X_train.columns.to_list()"
   ],
   "id": "193b8610c7bbb288"
  },
  {
   "metadata": {},
   "cell_type": "markdown",
   "source": "In this part we assume that the treatment is binary. This is implemented using a threshold which is the median.",
   "id": "fb319d158d7386c4"
  },
  {
   "metadata": {},
   "cell_type": "code",
   "outputs": [],
   "execution_count": 33,
   "source": [
    "threshold = 2\n",
    "T_train = T_train.apply(lambda x: 0 if x <= threshold else 1)\n",
    "T_test = T_test.apply(lambda x: 0 if x <= threshold else 1)"
   ],
   "id": "2f408aba10f3e022"
  },
  {
   "metadata": {},
   "cell_type": "code",
   "outputs": [],
   "execution_count": 34,
   "source": [
    "# Rebuild the full DataFrame\n",
    "train_data = X_train.copy()\n",
    "train_data[T_name] = T_train\n",
    "train_data[Y_name] = Y_train"
   ],
   "id": "45e19a45ea7c3af"
  },
  {
   "metadata": {},
   "cell_type": "code",
   "outputs": [],
   "execution_count": 35,
   "source": [
    "# Create a CausalModel with the training data\n",
    "from dowhy import CausalModel\n",
    "\n",
    "model = CausalModel(\n",
    "    data=train_data,\n",
    "    treatment=T_name,\n",
    "    outcome=Y_name,\n",
    "    common_causes=covariate_names\n",
    ")\n"
   ],
   "id": "28b2f0972d33393b"
  },
  {
   "metadata": {},
   "cell_type": "markdown",
   "source": "## DML",
   "id": "7d896ddf57494c98"
  },
  {
   "metadata": {},
   "cell_type": "code",
   "outputs": [
    {
     "name": "stderr",
     "output_type": "stream",
     "text": [
      "Not all column names are strings. Coercing to strings for now.\n"
     ]
    },
    {
     "name": "stdout",
     "output_type": "stream",
     "text": [
      "Estimated ATE: 0.07035049092063528\n",
      "Confidence Interval for ATE: [-0.10243564751375765, 0.243136629355028]\n"
     ]
    },
    {
     "name": "stderr",
     "output_type": "stream",
     "text": [
      "Co-variance matrix is underdetermined. Inference will be invalid!\n"
     ]
    }
   ],
   "execution_count": 37,
   "source": [
    "from econml.dml import LinearDML\n",
    "from sklearn.ensemble import RandomForestRegressor, RandomForestClassifier\n",
    "from sklearn.linear_model import LinearRegression\n",
    "\n",
    "# Define models for outcome (Y) and treatment (T)\n",
    "model_y = RandomForestRegressor()    # Flexible model for outcome regression\n",
    "model_t = RandomForestClassifier()    # Flexible model for treatment regression\n",
    "\n",
    "# Initialize the LinearDML estimator (supports confidence intervals)\n",
    "linear_dml_model = LinearDML(\n",
    "    model_y=model_y,                # Model for outcome regression\n",
    "    model_t=model_t,                # Model for treatment regression\n",
    "    discrete_treatment=True        # Set to True if treatment is binary\n",
    ")\n",
    "\n",
    "# Fit the LinearDML model on the training data\n",
    "linear_dml_model.fit(Y_train, T_train, X=X_train)\n",
    "\n",
    "# Estimate the Average Treatment Effect (ATE) for the entire dataset\n",
    "ate = linear_dml_model.ate(X_test)\n",
    "\n",
    "# Estimate the confidence intervals for the ATE\n",
    "ate_lower, ate_upper = linear_dml_model.ate_interval(X_test)\n",
    "\n",
    "# Output the estimated ATE and its confidence intervals\n",
    "print(f\"Estimated ATE: {ate}\")\n",
    "print(f\"Confidence Interval for ATE: [{ate_lower}, {ate_upper}]\")\n"
   ],
   "id": "f7ec849d20031fb0"
  },
  {
   "metadata": {},
   "cell_type": "markdown",
   "source": "### DML Evaluation",
   "id": "ad8fefd919dddd2c"
  },
  {
   "metadata": {},
   "cell_type": "code",
   "outputs": [],
   "execution_count": 38,
   "source": [
    "# from sklearn.metrics import r2_score\n",
    "# \n",
    "# # Evaluate the outcome model (model_y)\n",
    "# y_pred = linear_dml_model.model_y.predict(X_test)  # Access fitted model for outcome\n",
    "# r2_y = r2_score(Y_test, y_pred)  # Compute R² for the outcome model\n",
    "# print(f\"R² for the outcome model: {r2_y}\")\n",
    "# \n",
    "# # Evaluate the treatment model (model_t)\n",
    "# t_pred = linear_dml_model.model_t.predict(X_test)  # Access fitted model for treatment\n",
    "# r2_t = r2_score(T_test, t_pred)  # Compute R² for the treatment model\n",
    "# print(f\"R² for the treatment model: {r2_t}\")"
   ],
   "id": "69a6f81f5241d1ab"
  },
  {
   "metadata": {},
   "cell_type": "markdown",
   "source": "## S-Learner",
   "id": "60e32eb36fe30831"
  },
  {
   "metadata": {},
   "cell_type": "code",
   "outputs": [
    {
     "name": "stdout",
     "output_type": "stream",
     "text": [
      "S-Learner ATE: 0.17356466461858408\n"
     ]
    },
    {
     "name": "stderr",
     "output_type": "stream",
     "text": [
      "Not all column names are strings. Coercing to strings for now.\n"
     ]
    }
   ],
   "execution_count": 39,
   "source": [
    "from econml.metalearners import SLearner\n",
    "from xgboost import XGBRegressor\n",
    "from sklearn.model_selection import train_test_split\n",
    "\n",
    "\n",
    "# Define XGBoost for outcome prediction\n",
    "xgb_model = XGBRegressor()\n",
    "\n",
    "# Initialize the S-Learner using XGBoost\n",
    "s_learner = SLearner(overall_model=xgb_model)\n",
    "\n",
    "# Fit the S-Learner\n",
    "s_learner.fit(Y_train, T_train, X=X_train)\n",
    "\n",
    "# Estimate the ATE using the fitted model\n",
    "ate_s_learner = s_learner.ate(X_test)\n",
    "\n",
    "print(f\"S-Learner ATE: {ate_s_learner}\")\n"
   ],
   "id": "9760bb1d253fe012"
  },
  {
   "metadata": {},
   "cell_type": "markdown",
   "source": "## T-Learner",
   "id": "2e97636b5d6d2290"
  },
  {
   "metadata": {},
   "cell_type": "code",
   "outputs": [
    {
     "name": "stderr",
     "output_type": "stream",
     "text": [
      "Not all column names are strings. Coercing to strings for now.\n"
     ]
    },
    {
     "name": "stdout",
     "output_type": "stream",
     "text": [
      "T-Learner ATE: 0.06312569668474753\n"
     ]
    }
   ],
   "execution_count": 40,
   "source": [
    "from econml.metalearners import TLearner\n",
    "from xgboost import XGBRegressor\n",
    "\n",
    "# Define XGBoost for both models\n",
    "xgb_model = XGBRegressor()\n",
    "\n",
    "# Initialize the T-Learner with XGBoost\n",
    "t_learner = TLearner(models=XGBRegressor())\n",
    "\n",
    "# Fit the T-Learner\n",
    "t_learner.fit(Y_train, T_train, X=X_train)\n",
    "\n",
    "# Estimate the ATE using the T-Learner\n",
    "ate_t_learner = t_learner.ate(X_test)\n",
    "\n",
    "print(f\"T-Learner ATE: {ate_t_learner}\")\n"
   ],
   "id": "67ede8a2908746cb"
  },
  {
   "metadata": {},
   "cell_type": "markdown",
   "source": "## X-learner",
   "id": "10e4863970303eef"
  },
  {
   "metadata": {},
   "cell_type": "code",
   "outputs": [
    {
     "name": "stderr",
     "output_type": "stream",
     "text": [
      "Not all column names are strings. Coercing to strings for now.\n"
     ]
    },
    {
     "name": "stdout",
     "output_type": "stream",
     "text": [
      "X-Learner ATE: 0.08665650472847702\n"
     ]
    }
   ],
   "execution_count": 41,
   "source": [
    "from econml.metalearners import XLearner\n",
    "from xgboost import XGBRegressor\n",
    "\n",
    "# Define XGBoost for both models\n",
    "xgb_model = XGBRegressor()\n",
    "\n",
    "# Initialize the X-Learner with XGBoost\n",
    "x_learner = XLearner(models=XGBRegressor())\n",
    "\n",
    "# Fit the X-Learner\n",
    "x_learner.fit(Y_train, T_train, X=X_train)\n",
    "\n",
    "# Estimate the ATE using the X-Learner\n",
    "ate_x_learner = x_learner.ate(X_test)\n",
    "\n",
    "print(f\"X-Learner ATE: {ate_x_learner}\")\n"
   ],
   "id": "6933026db6ec3781"
  },
  {
   "metadata": {},
   "cell_type": "markdown",
   "source": "## IPW",
   "id": "95385e4c903fef26"
  },
  {
   "metadata": {},
   "cell_type": "code",
   "outputs": [
    {
     "name": "stdout",
     "output_type": "stream",
     "text": [
      "Estimated ATE using IPW: 0.9009580852970198\n"
     ]
    }
   ],
   "execution_count": 42,
   "source": [
    "from xgboost import XGBClassifier\n",
    "from sklearn.linear_model import LogisticRegression\n",
    "from sklearn.model_selection import train_test_split\n",
    "import numpy as np\n",
    "\n",
    "# Fit a propensity score model (XGBoost or Logistic Regression)\n",
    "propensity_model = LogisticRegression()\n",
    "propensity_model.fit(X_train, T_train)\n",
    "\n",
    "# Predict propensity scores (probabilities of treatment)\n",
    "propensity_scores = propensity_model.predict_proba(X_test)[:, 1]  # Prob of being treated (T=1)\n",
    "\n",
    "# Compute the inverse propensity weights\n",
    "epsilon = 1e-3\n",
    "weights_treated = 1 / (propensity_scores[T_test == 1] + epsilon)\n",
    "weights_control = 1 / (propensity_scores[T_test == 0] + epsilon)\n",
    "\n",
    "# Apply IPW to estimate the ATE\n",
    "# Separate treated and control groups\n",
    "Y_treated = Y_test[T_test == 1]\n",
    "Y_control = Y_test[T_test == 0]\n",
    "\n",
    "# Weighted means of outcomes\n",
    "weighted_mean_treated = np.average(Y_treated, weights=weights_treated)\n",
    "weighted_mean_control = np.average(Y_control, weights=weights_control)\n",
    "\n",
    "# ATE estimation\n",
    "ate_ipw = weighted_mean_treated - weighted_mean_control\n",
    "\n",
    "print(f\"Estimated ATE using IPW: {ate_ipw}\")\n"
   ],
   "id": "6c3eff8fca52e2b3"
  },
  {
   "metadata": {},
   "cell_type": "code",
   "outputs": [
    {
     "data": {
      "text/plain": [
       "<Figure size 640x480 with 1 Axes>"
      ],
      "image/png": "[encoded data removed]"
     },
     "metadata": {},
     "output_type": "display_data"
    }
   ],
   "execution_count": 43,
   "source": [
    "import matplotlib.pyplot as plt\n",
    "import numpy as np\n",
    "\n",
    "# Sort indices based on the target values (Y_train)\n",
    "sorted_indices = np.argsort(Y_train)\n",
    "\n",
    "# Divide data into quartiles based on sorted target values\n",
    "quartile_size = len(Y_train) // 4\n",
    "first_quartile_indices = sorted_indices[:quartile_size]\n",
    "second_quartile_indices = sorted_indices[quartile_size:2*quartile_size]\n",
    "third_quartile_indices = sorted_indices[2*quartile_size:3*quartile_size]\n",
    "fourth_quartile_indices = sorted_indices[3*quartile_size:]\n",
    "\n",
    "# Use iloc to retain feature names when slicing\n",
    "propensity_scores_first_quartile = propensity_model.predict_proba(X_train.iloc[first_quartile_indices])[:, 1]\n",
    "propensity_scores_second_quartile = propensity_model.predict_proba(X_train.iloc[second_quartile_indices])[:, 1]\n",
    "propensity_scores_third_quartile = propensity_model.predict_proba(X_train.iloc[third_quartile_indices])[:, 1]\n",
    "propensity_scores_fourth_quartile = propensity_model.predict_proba(X_train.iloc[fourth_quartile_indices])[:, 1]\n",
    "\n",
    "# Calculate the total number of samples for weights normalization\n",
    "total_samples = len(first_quartile_indices) + len(second_quartile_indices) + len(third_quartile_indices) + len(fourth_quartile_indices)\n",
    "\n",
    "# Compute weights for each group so that their relative size is maintained\n",
    "weights_first = np.ones_like(propensity_scores_first_quartile) / total_samples\n",
    "weights_second = np.ones_like(propensity_scores_second_quartile) / total_samples\n",
    "weights_third = np.ones_like(propensity_scores_third_quartile) / total_samples\n",
    "weights_fourth = np.ones_like(propensity_scores_fourth_quartile) / total_samples\n",
    "\n",
    "# Plot stacked histograms for quartiles with relative magnitude\n",
    "plt.hist(\n",
    "    [propensity_scores_first_quartile, propensity_scores_second_quartile, propensity_scores_third_quartile, propensity_scores_fourth_quartile], \n",
    "    bins=20, \n",
    "    weights=[weights_first, weights_second, weights_third, weights_fourth],  # Maintain relative sizes\n",
    "    alpha=0.7, \n",
    "    label=['First Quartile', 'Second Quartile', 'Third Quartile', 'Fourth Quartile'],\n",
    "    stacked=True,\n",
    "    density=False\n",
    ")\n",
    "\n",
    "# Add labels and legend\n",
    "plt.title('Stacked Distribution of Propensity Scores by Target Value Quartiles')\n",
    "plt.xlabel('Propensity Score')\n",
    "plt.ylabel('Proportion')\n",
    "plt.legend(loc='best')\n",
    "\n",
    "# Show the plot\n",
    "plt.show()\n"
   ],
   "id": "6e49c83af8321b4a"
  },
  {
   "metadata": {},
   "cell_type": "code",
   "outputs": [
    {
     "data": {
      "text/plain": [
       "<Figure size 640x480 with 1 Axes>"
      ],
      "image/png": "[encoded data removed]"
     },
     "metadata": {},
     "output_type": "display_data"
    }
   ],
   "execution_count": 44,
   "source": [
    "from sklearn.calibration import calibration_curve\n",
    "\n",
    "# Get predicted propensity scores\n",
    "propensity_scores = propensity_model.predict_proba(X_test)[:, 1]\n",
    "\n",
    "# Calibration curve\n",
    "fraction_of_positives, mean_predicted_value = calibration_curve(T_test, propensity_scores, n_bins=10)\n",
    "\n",
    "# Plot calibration curve\n",
    "plt.plot(mean_predicted_value, fraction_of_positives, \"s-\", label=\"Calibration\")\n",
    "plt.plot([0, 1], [0, 1], \"k:\", label=\"Perfectly Calibrated\")\n",
    "plt.xlabel(\"Mean Predicted Value\")\n",
    "plt.ylabel(\"Fraction of Positives\")\n",
    "plt.legend()\n",
    "plt.title(\"Calibration Plot\")\n",
    "plt.show()\n"
   ],
   "id": "b8ed4d0583f01935"
  },
  {
   "metadata": {},
   "cell_type": "markdown",
   "source": "## DR",
   "id": "cefa42b9e8842260"
  },
  {
   "metadata": {},
   "cell_type": "code",
   "outputs": [
    {
     "name": "stderr",
     "output_type": "stream",
     "text": [
      "Not all column names are strings. Coercing to strings for now.\n"
     ]
    },
    {
     "name": "stdout",
     "output_type": "stream",
     "text": [
      "Estimated ATE using Doubly Robust Learner: 636.6613529594338\n"
     ]
    },
    {
     "name": "stderr",
     "output_type": "stream",
     "text": [
      "Co-variance matrix is underdetermined. Inference will be invalid!\n"
     ]
    }
   ],
   "execution_count": 29,
   "source": [
    "from econml.dr import DRLearner\n",
    "from sklearn.linear_model import LogisticRegression\n",
    "from xgboost import XGBRegressor, XGBClassifier\n",
    "\n",
    "# Define models for propensity score (treatment model) and outcome model\n",
    "model_t = LogisticRegression()  # Propensity score model for binary treatment\n",
    "model_y = XGBRegressor()   # Outcome model for continuous outcomes\n",
    "\n",
    "# Initialize the DR Learner\n",
    "# Ensure cross-fitting is enabled\n",
    "dr_learner = DRLearner(\n",
    "    model_propensity=model_t, \n",
    "    model_regression=model_y,\n",
    "    cv=5  # 5-fold cross-fitting\n",
    ")\n",
    "\n",
    "# Fit the DR Learner on training data\n",
    "dr_learner.fit(Y_train, T_train, X=X_train)\n",
    "\n",
    "# Estimate the Average Treatment Effect (ATE) using the fitted DR Learner\n",
    "ate_dr = dr_learner.ate(X_test)\n",
    "\n",
    "# Output the estimated ATE\n",
    "print(f\"Estimated ATE using Doubly Robust Learner: {ate_dr}\")\n"
   ],
   "id": "fc5d08d554bb8a37"
  }
 ],
 "metadata": {
  "kernelspec": {
   "display_name": "Python (causal_inference_project)",
   "language": "python",
   "name": "causal_inference_project"
  },
  "language_info": {
   "codemirror_mode": {
    "name": "ipython",
    "version": 2
   },
   "file_extension": ".py",
   "mimetype": "text/x-python",
   "name": "python",
   "nbconvert_exporter": "python",
   "pygments_lexer": "ipython2",
   "version": "2.7.6"
  }
 },
 "nbformat": 4,
 "nbformat_minor": 5
}
